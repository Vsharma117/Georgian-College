{
 "cells": [
  {
   "cell_type": "code",
   "execution_count": 3,
   "id": "bfdd50e1",
   "metadata": {},
   "outputs": [
    {
     "name": "stdout",
     "output_type": "stream",
     "text": [
      "   id\n",
      "0   2\n",
      "1   4\n"
     ]
    }
   ],
   "source": [
    "import sqlite3\n",
    "import pandas as pd\n",
    "\n",
    "#Connecting to sqLite \n",
    "conn = sqlite3.connect(':memory:')\n",
    "cur = conn.cursor()\n",
    "\n",
    "#Creating the weather table\n",
    "cur.execute('''\n",
    "CREATE TABLE Weather (\n",
    "    id INTEGER PRIMARY KEY,\n",
    "    recordDate DATE,\n",
    "    temperature INTEGER\n",
    ")\n",
    "''')\n",
    "\n",
    "#Inserting the data\n",
    "cur.executemany('''\n",
    "INSERT INTO Weather (id, recordDate, temperature)\n",
    "VALUES (?, ?, ?)\n",
    "''', [\n",
    "    (1, '2015-01-01', 10),\n",
    "    (2, '2015-01-02', 25),\n",
    "    (3, '2015-01-03', 20),\n",
    "    (4, '2015-01-04', 30)\n",
    "])\n",
    "\n",
    "#Writing and executing the SQL query to find the ids where the temperature is higher than the previous day\n",
    "query = '''\n",
    "SELECT W1.id\n",
    "FROM Weather W1\n",
    "JOIN Weather W2\n",
    "ON DATE(W1.recordDate, '-1 day') = W2.recordDate\n",
    "WHERE W1.temperature > W2.temperature\n",
    "'''\n",
    "\n",
    "result = cur.execute(query).fetchall()\n",
    "\n",
    "#results\n",
    "result_df = pd.DataFrame(result, columns=['id'])\n",
    "print(result_df)\n",
    "conn.close()\n",
    "\n"
   ]
  },
  {
   "cell_type": "code",
   "execution_count": null,
   "id": "7c392732",
   "metadata": {},
   "outputs": [],
   "source": []
  }
 ],
 "metadata": {
  "kernelspec": {
   "display_name": "Python 3 (ipykernel)",
   "language": "python",
   "name": "python3"
  },
  "language_info": {
   "codemirror_mode": {
    "name": "ipython",
    "version": 3
   },
   "file_extension": ".py",
   "mimetype": "text/x-python",
   "name": "python",
   "nbconvert_exporter": "python",
   "pygments_lexer": "ipython3",
   "version": "3.11.5"
  }
 },
 "nbformat": 4,
 "nbformat_minor": 5
}

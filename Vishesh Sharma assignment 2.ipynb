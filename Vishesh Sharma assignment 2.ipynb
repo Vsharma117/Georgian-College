{
 "cells": [
  {
   "cell_type": "markdown",
   "id": "a1c5c920",
   "metadata": {},
   "source": [
    "# Problem Set 1"
   ]
  },
  {
   "cell_type": "markdown",
   "id": "a7141681",
   "metadata": {},
   "source": [
    "## Question 1\n",
    "### What data type is each of the following (evaluate where necessary)?\n",
    "\n"
   ]
  },
  {
   "cell_type": "code",
   "execution_count": 1,
   "id": "a87cf913",
   "metadata": {},
   "outputs": [],
   "source": [
    "from tabulate import tabulate\n",
    "from math import pi"
   ]
  },
  {
   "cell_type": "code",
   "execution_count": 2,
   "id": "53f725f1",
   "metadata": {},
   "outputs": [
    {
     "name": "stdout",
     "output_type": "stream",
     "text": [
      "╒══════════════╤═════════════╤══════════════════════════════════════════════════════╕\n",
      "│ Expression   │ Data Type   │ Explanation                                          │\n",
      "╞══════════════╪═════════════╪══════════════════════════════════════════════════════╡\n",
      "│ 5            │ int         │ Integer literal.                                     │\n",
      "├──────────────┼─────────────┼──────────────────────────────────────────────────────┤\n",
      "│ 5.0          │ float       │ Floating-point number.                               │\n",
      "├──────────────┼─────────────┼──────────────────────────────────────────────────────┤\n",
      "│ 5 > 1        │ bool        │ Comparison, results in a boolean (True).             │\n",
      "├──────────────┼─────────────┼──────────────────────────────────────────────────────┤\n",
      "│ '5'          │ str         │ String because it's enclosed in quotes.              │\n",
      "├──────────────┼─────────────┼──────────────────────────────────────────────────────┤\n",
      "│ 5 * 2        │ int         │ Multiplying two integers results in an integer (10). │\n",
      "├──────────────┼─────────────┼──────────────────────────────────────────────────────┤\n",
      "│ '5' * 2      │ str         │ Repeats the string '5' two times, resulting in '55'. │\n",
      "├──────────────┼─────────────┼──────────────────────────────────────────────────────┤\n",
      "│ '5' + '2'    │ str         │ Concatenates two strings to form '52'.               │\n",
      "├──────────────┼─────────────┼──────────────────────────────────────────────────────┤\n",
      "│ 5 / 2        │ float       │ Division operation results in a float (2.5).         │\n",
      "├──────────────┼─────────────┼──────────────────────────────────────────────────────┤\n",
      "│ 5 % 2        │ int         │ Modulo operation returns the remainder (1).          │\n",
      "├──────────────┼─────────────┼──────────────────────────────────────────────────────┤\n",
      "│ {5, 2, 1}    │ set         │ Set containing unique elements {5, 2, 1}.            │\n",
      "├──────────────┼─────────────┼──────────────────────────────────────────────────────┤\n",
      "│ 5 == 3       │ bool        │ Equality comparison, results in False.               │\n",
      "├──────────────┼─────────────┼──────────────────────────────────────────────────────┤\n",
      "│ pi           │ float       │ Floating-point representation of π (3.14159).        │\n",
      "╘══════════════╧═════════════╧══════════════════════════════════════════════════════╛\n"
     ]
    }
   ],
   "source": [
    "data = [\n",
    "    [\"5\", \"int\", \"Integer literal.\"],\n",
    "    [\"5.0\", \"float\", \"Floating-point number.\"],\n",
    "    [\"5 > 1\", \"bool\", \"Comparison, results in a boolean (True).\"],\n",
    "    [\"'5'\", \"str\", \"String because it's enclosed in quotes.\"],\n",
    "    [\"5 * 2\", \"int\", \"Multiplying two integers results in an integer (10).\"],\n",
    "    [\"'5' * 2\", \"str\", \"Repeats the string '5' two times, resulting in '55'.\"],\n",
    "    [\"'5' + '2'\", \"str\", \"Concatenates two strings to form '52'.\"],\n",
    "    [\"5 / 2\", \"float\", \"Division operation results in a float (2.5).\"],\n",
    "    [\"5 % 2\", \"int\", \"Modulo operation returns the remainder (1).\"],\n",
    "    [\"{5, 2, 1}\", \"set\", \"Set containing unique elements {5, 2, 1}.\"],\n",
    "    [\"5 == 3\", \"bool\", \"Equality comparison, results in False.\"],\n",
    "    [\"pi\", \"float\", \"Floating-point representation of π (3.14159).\"]\n",
    "]\n",
    "\n",
    "headers = [\"Expression\", \"Data Type\", \"Explanation\"]\n",
    "\n",
    "table = tabulate(data, headers, tablefmt=\"fancy_grid\")\n",
    "\n",
    "print(table)\n"
   ]
  },
  {
   "cell_type": "markdown",
   "id": "c64b38e0",
   "metadata": {},
   "source": [
    "# Question 2\n",
    "Write (and evaluate) python expressions that answer these questions:\n",
    "#a. How many letters are there in 'Supercalifragilisticexpialidocious'?\n"
   ]
  },
  {
   "cell_type": "code",
   "execution_count": 3,
   "id": "098827e9",
   "metadata": {},
   "outputs": [
    {
     "name": "stdout",
     "output_type": "stream",
     "text": [
      "The word 'Supercalifragilisticexpialidocious' has 34 characters.\n"
     ]
    }
   ],
   "source": [
    "#counting the number of characters in a word\n",
    "word = 'Supercalifragilisticexpialidocious'\n",
    "letter_count = len(word)\n",
    "\n",
    "print(f\"The word '{word}' has {letter_count} characters.\")\n"
   ]
  },
  {
   "cell_type": "markdown",
   "id": "d5ea490b",
   "metadata": {},
   "source": [
    "# b. Does 'Supercalifragilisticexpialidocious' contain 'ice' as a substring?"
   ]
  },
  {
   "cell_type": "code",
   "execution_count": 4,
   "id": "6a44a35c",
   "metadata": {},
   "outputs": [
    {
     "name": "stdout",
     "output_type": "stream",
     "text": [
      "'ice' is indeed present in 'Supercalifragilisticexpialidocious'.\n"
     ]
    }
   ],
   "source": [
    "#Checking if 'ice' is the substring of 'Supercalifragilisticexpialidocious'\n",
    "contains_ice = 'ice' in 'Supercalifragilisticexpialidocious'\n",
    "\n",
    "if not contains_ice:\n",
    "    print(\"'ice' is not found within 'Supercalifragilisticexpialidocious'.\")\n",
    "else:\n",
    "    print(\"'ice' is indeed present in 'Supercalifragilisticexpialidocious'.\")\n"
   ]
  },
  {
   "cell_type": "markdown",
   "id": "be6f0a2d",
   "metadata": {},
   "source": [
    "# c. Which of the following words is the longest:\n",
    "Supercalifragilisticexpialidocious, Honorificabilitudinitatibus, or\n",
    "Bababadalgharaghtakamminarronnkonn?"
   ]
  },
  {
   "cell_type": "code",
   "execution_count": 5,
   "id": "ff341af1",
   "metadata": {},
   "outputs": [
    {
     "name": "stdout",
     "output_type": "stream",
     "text": [
      "Longest word(s): ['Supercalifragilisticexpialidocious', 'Bababadalgharaghtakamminarronnkonn']\n",
      "Length: 34\n"
     ]
    }
   ],
   "source": [
    "#words to analyzed\n",
    "words = [\n",
    "    \"Supercalifragilisticexpialidocious\",\n",
    "    \"Honorificabilitudinitatibus\",\n",
    "    \"Bababadalgharaghtakamminarronnkonn\"\n",
    "]\n",
    "\n",
    "#Variables\n",
    "max_len = 0\n",
    "longest_words = []\n",
    "\n",
    "#going through each word in the list\n",
    "for word in words:\n",
    "    current_length = len(word)\n",
    "    \n",
    "    if current_length > max_len:\n",
    "        max_len = current_length\n",
    "        longest_words = [word]  # Start a new list with the current longest word\n",
    "    elif current_length == max_len:\n",
    "        longest_words.append(word)  # Add to the list of longest words if tied\n",
    "\n",
    "#results\n",
    "print(\"Longest word(s):\", longest_words)\n",
    "print(\"Length:\", max_len)\n"
   ]
  },
  {
   "cell_type": "markdown",
   "id": "bdd2c251",
   "metadata": {},
   "source": [
    "# d. Which composer comes first in the dictionary: 'Berlioz', 'Borodin', 'Brian',\n",
    "'Bartok', 'Bellini', 'Buxtehude', 'Bernstein'. Which one comes last?"
   ]
  },
  {
   "cell_type": "code",
   "execution_count": 6,
   "id": "e602534f",
   "metadata": {},
   "outputs": [
    {
     "name": "stdout",
     "output_type": "stream",
     "text": [
      "The first composer in alphabetical order is: Bartok.\n",
      "The last composer in alphabetical order is: Buxtehude.\n"
     ]
    }
   ],
   "source": [
    "#list for sorting\n",
    "composer_names = ['Berlioz', 'Borodin', 'Brian', 'Bartok', 'Bellini', 'Buxtehude', 'Bernstein']\n",
    "\n",
    "#Sorting the composers alphabetically\n",
    "sorted_names = sorted(composer_names)\n",
    "\n",
    "#Retrieving the first and last composers\n",
    "first_composer = sorted_names[0]\n",
    "last_composer = sorted_names[-1]\n",
    "\n",
    "#results\n",
    "print(f\"The first composer in alphabetical order is: {first_composer}.\")\n",
    "print(f\"The last composer in alphabetical order is: {last_composer}.\")\n"
   ]
  },
  {
   "cell_type": "markdown",
   "id": "3e5598c9",
   "metadata": {},
   "source": [
    "# Question 3\n",
    "Implement function triangleArea(a,b,c) that takes as input the lengths of the 3\n",
    "sides of a triangle and returns the area of the triangle. By Heron's formula, the area\n",
    "of a triangle with side lengths a, b, and c is\n",
    "s(s - a)(s -b)(s -c), where\n",
    "s = (a +b + c) /2.\n",
    ">>> triangleArea(2,2,2)\n",
    "1.7320508075688772"
   ]
  },
  {
   "cell_type": "code",
   "execution_count": 7,
   "id": "dc88cae7",
   "metadata": {},
   "outputs": [
    {
     "name": "stdout",
     "output_type": "stream",
     "text": [
      "The area of the triangle is: 1.7320508075688772\n"
     ]
    }
   ],
   "source": [
    "import math\n",
    "\n",
    "def calculate_triangle_area(side1, side2, side3):\n",
    "    # Calculate the semi-perimeter\n",
    "    semi_perimeter = (side1 + side2 + side3) / 2\n",
    "    \n",
    "    # Compute the area using Heron's formula\n",
    "    area = math.sqrt(semi_perimeter * (semi_perimeter - side1) * (semi_perimeter - side2) * (semi_perimeter - side3))\n",
    "    \n",
    "    return area\n",
    "\n",
    "#output\n",
    "area_of_triangle = calculate_triangle_area(2, 2, 2)\n",
    "print(f\"The area of the triangle is: {area_of_triangle}\")\n"
   ]
  },
  {
   "cell_type": "markdown",
   "id": "197044f7",
   "metadata": {},
   "source": [
    "# Question 4\n",
    "Write a program in python to separate odd and even integers in separate arrays. Go\n",
    "to the editor\n",
    "Test Data :\n",
    "Input the number of elements to be stored in the array :5\n",
    "Input 5 elements in the array :\n",
    "element - 0 : 25\n",
    "element - 1 : 47\n",
    "element - 2 : 42\n",
    "element - 3 : 56\n",
    "element - 4 : 32\n",
    "Expected Output:\n",
    "The Even elements are:\n",
    "42 56 32\n",
    "The Odd elements are :\n",
    "25 47"
   ]
  },
  {
   "cell_type": "code",
   "execution_count": 11,
   "id": "1deb4135",
   "metadata": {},
   "outputs": [
    {
     "name": "stdout",
     "output_type": "stream",
     "text": [
      "Enter the number of elements to store in the array: 5\n",
      "Element 1: 25\n",
      "Element 2: 47\n",
      "Element 3: 42\n",
      "Element 4: 56\n",
      "Element 5: 32\n",
      "Even elements are:\n",
      "42 56 32\n",
      "Odd elements are:\n",
      "25 47\n"
     ]
    }
   ],
   "source": [
    "def separate_even_odd():\n",
    "    # Get the number of elements from the user\n",
    "    count = int(input(\"Enter the number of elements to store in the array: \"))\n",
    "    \n",
    "    # Initialize lists for even and odd numbers\n",
    "    even_numbers = []\n",
    "    odd_numbers = []\n",
    "    \n",
    "    # Collect elements from the user\n",
    "    for index in range(count):\n",
    "        value = int(input(f\"Element {index + 1}: \"))\n",
    "        if value % 2 == 0:\n",
    "            even_numbers.append(value)  # Append to even list\n",
    "        else:\n",
    "            odd_numbers.append(value)  # Append to odd list\n",
    "    \n",
    "    # Display even numbers\n",
    "    print(\"Even elements are:\")\n",
    "    print(' '.join(map(str, even_numbers)))  # Print all even numbers in one line\n",
    "\n",
    "    # Display odd numbers\n",
    "    print(\"Odd elements are:\")\n",
    "    print(' '.join(map(str, odd_numbers)))  # Print all odd numbers in one line\n",
    "\n",
    "#Execution\n",
    "separate_even_odd()\n"
   ]
  },
  {
   "cell_type": "markdown",
   "id": "04fdfa07",
   "metadata": {},
   "source": [
    "# Question 5\n",
    "a. Write a function inside(x,y,x1,y1,x2,y2) that returns True or False depending on whether the point (x,y) lies in the rectangle with lower left corner (x1,y1) and upper right corner (x2,y2).\n",
    ">>> inside(1,1,0,0,2,3)\n",
    "True\n",
    ">>> inside(-1,-1,0,0,2,3)\n",
    "False\n"
   ]
  },
  {
   "cell_type": "code",
   "execution_count": 12,
   "id": "25641404",
   "metadata": {},
   "outputs": [
    {
     "name": "stdout",
     "output_type": "stream",
     "text": [
      "True\n",
      "False\n"
     ]
    }
   ],
   "source": [
    "\"\"\"\n",
    "Parameters (float):\n",
    "x : x-coordinate of the point\n",
    "y : y-coordinate of the point\n",
    "lower_left_x: x-coordinate of the lower left corner of the rectangle\n",
    "lower_left_y: y-coordinate of the lower left corner of the rectangle\n",
    "upper_right_x: x-coordinate of the upper right corner of the rectangle\n",
    "upper_right_y: y-coordinate of the upper right corner of the rectangle\n",
    "\n",
    "Returns:\n",
    "bool: True if the point is inside the rectangle, False otherwise\n",
    "\"\"\"\n",
    "\n",
    "def is_point_inside_rectangle(x, y, lower_left_x, lower_left_y, upper_right_x, upper_right_y):\n",
    "    return lower_left_x <= x <= upper_right_x and lower_left_y <= y <= upper_right_y\n",
    "\n",
    "#output\n",
    "print(is_point_inside_rectangle(1, 1, 0, 0, 2, 3))  # Expected output: True\n",
    "print(is_point_inside_rectangle(-1, -1, 0, 0, 2, 3))  # Expected output: False\n"
   ]
  },
  {
   "cell_type": "markdown",
   "id": "0d3853d9",
   "metadata": {},
   "source": [
    "# b. Use function inside() from part a. to write an expression that tests whether the point (1,1) lies in both of the following rectangles: one with lower left corner (0.3, 0.5) and upper right corner (1.1, 0.7) and the other with lower left corner (0.5, 0.2) and upper right corner (1.1, 2)."
   ]
  },
  {
   "cell_type": "code",
   "execution_count": 13,
   "id": "f97de31a",
   "metadata": {},
   "outputs": [
    {
     "name": "stdout",
     "output_type": "stream",
     "text": [
      "Point (1, 1) is inside rectangle 1: False\n",
      "Point (1, 1) is inside rectangle 2: True\n"
     ]
    }
   ],
   "source": [
    "def is_point_in_rectangle(x, y, rect_x1, rect_y1, rect_x2, rect_y2):\n",
    "    return rect_x1 <= x <= rect_x2 and rect_y1 <= y <= rect_y2\n",
    "\n",
    "#Coordinates of the point\n",
    "point_x = 1\n",
    "point_y = 1\n",
    "\n",
    "#Checking if the point is inside the first rectangle\n",
    "result_r1 = is_point_in_rectangle(point_x, point_y, 0.3, 0.5, 1.1, 0.7)\n",
    "\n",
    "#Checking if the point is inside the second rectangle\n",
    "result_r2 = is_point_in_rectangle(point_x, point_y, 0.5, 0.2, 1.1, 2)\n",
    "\n",
    "#results\n",
    "print(f\"Point (1, 1) is inside rectangle 1: {result_r1}\")  \n",
    "print(f\"Point (1, 1) is inside rectangle 2: {result_r2}\")  \n"
   ]
  },
  {
   "cell_type": "markdown",
   "id": "5405a214",
   "metadata": {},
   "source": [
    "# Question 6\n",
    "16. You can turn a word into pig-Latin using the following two rules (simplified):\n",
    "• If the word starts with a consonant, move that letter to the end and append 'ay'. For example, 'happy' becomes 'appyhay' and 'pencil' becomes 'encilpay'.\n",
    "• If the word starts with a vowel, simply append 'way' to the end of the word. For example, 'enter' becomes 'enterway' and 'other' becomes 'otherway' . For our purposes, there are 5 vowels: a, e, i, o, u (so we count y as a consonant).\n",
    "Write a function pig() that takes a word (i.e., a string) as input and returns its pig-Latin form. Your function should still work if the input word contains upper case characters. Your output should always be lower case however.\n",
    ">>> pig('happy')\n",
    "'appyhay'\n",
    ">>> pig('Enter')\n",
    "'enterway'"
   ]
  },
  {
   "cell_type": "code",
   "execution_count": 15,
   "id": "2e10a9fa",
   "metadata": {},
   "outputs": [
    {
     "name": "stdout",
     "output_type": "stream",
     "text": [
      "appyhay\n",
      "enterway\n"
     ]
    }
   ],
   "source": [
    "def pig_latin_translation(word):\n",
    "#Transforming the input word to lowercase\n",
    "    lowercase_word = word.lower()\n",
    "    \n",
    "#Determining if the first letter is a vowel\n",
    "    if lowercase_word[0] in 'aeiou':\n",
    "        return lowercase_word + 'way'  # Add 'way' if the word starts with a vowel\n",
    "    else:\n",
    "#Reorganizing the word for consonants: move the first letter to the end and add 'ay'\n",
    "        return lowercase_word[1:] + lowercase_word[0] + 'ay'\n",
    "\n",
    "#output \n",
    "print(pig_latin_translation('happy'))  # Should output: 'appyhay'\n",
    "print(pig_latin_translation('Enter'))  # Should output: 'enterway'\n",
    "\n"
   ]
  },
  {
   "cell_type": "markdown",
   "id": "c6a49221",
   "metadata": {},
   "source": [
    "# Question 7\n",
    "File bloodtype1.txt records blood-types of patients (A, B, AB, O or OO) at a clinic. Write a function bldcount() that reads the file with name name and reports (i.e., prints) how many patients there are in each bloodtype.\n",
    ">>> bldcount('bloodtype.txt')\n",
    "There are 10 patients of blood type A.\n",
    "There is one patient of blood type B.\n",
    "There are 10 patients of blood type AB.\n",
    "There are 12 patients of blood type O.\n",
    "There are no patients of blood type OO."
   ]
  },
  {
   "cell_type": "code",
   "execution_count": 16,
   "id": "8d5962bf",
   "metadata": {},
   "outputs": [
    {
     "name": "stdout",
     "output_type": "stream",
     "text": [
      "There are 15 patients with blood type A.\n",
      "There is 1 patients with blood type B.\n",
      "There are 13 patients with blood type AB.\n",
      "There are 15 patients with blood type O.\n",
      "There are no patients with blood type OO.\n"
     ]
    }
   ],
   "source": [
    "def count_blood_types(file_name):\n",
    "    blood_types = ['A', 'B', 'AB', 'O', 'OO']\n",
    "    blood_counts = {bt: 0 for bt in blood_types}\n",
    "\n",
    "#Opening and reading the contents of the file\n",
    "    with open(file_name) as infile:  \n",
    "        blood_data = infile.read()  \n",
    "\n",
    "#Spliting the blood data into a list\n",
    "    blood_list = blood_data.split()\n",
    "\n",
    "#Counting occurrences of each blood type\n",
    "    for blood in blood_list:\n",
    "        if blood in blood_counts:\n",
    "            blood_counts[blood] += 1\n",
    "\n",
    "#Printing the results\n",
    "    for bt in blood_types:\n",
    "        count = blood_counts[bt]\n",
    "        print(f\"There {'is' if count == 1 else 'are'} {count if count > 0 else 'no'} patients with blood type {bt}.\")\n",
    "\n",
    "#Calling the function with the filename\n",
    "count_blood_types('bloodtype1.txt')\n"
   ]
  },
  {
   "cell_type": "markdown",
   "id": "b7e22f7a",
   "metadata": {},
   "source": [
    "# Question 8\n",
    "Write a function curconv() that takes as input:\n",
    "1. a currency represented using a string (e.g., 'JPY' for the Japanese Yen or 'EUR' for the Euro)\n",
    "2. an amount\n",
    "and then converts and returns the amount in US dollars.\n",
    ">>> curconv('EUR', 100)\n",
    "122.96544\n",
    ">>> curconv('JPY', 100)\n",
    "1.241401\n",
    "The currency rates you will need are stored in file currencies.txt:\n",
    "AUD 1.0345157 Australian Dollar\n",
    "CHF 1.0237414 Swiss Franc\n",
    "CNY 0.1550176 Chinese Yuan\n",
    "DKK 0.1651442 Danish Krone\n",
    "EUR 1.2296544 Euro\n",
    "GBP 1.5550989 British Pound\n",
    "HKD 0.1270207 Hong Kong Dollar\n",
    "INR 0.0177643 Indian Rupee\n",
    "JPY 0.01241401 Japanese Yen\n",
    "MXN 0.0751848 Mexican Peso\n",
    "MYR 0.3145411 Malaysian Ringgit\n",
    "NOK 0.1677063 Norwegian Krone\n",
    "NZD 0.8003591 New Zealand Dollar\n",
    "PHP 0.0233234 Philippine Peso\n",
    "SEK 0.148269 Swedish Krona\n",
    "SGD 0.788871 Singapore Dollar\n",
    "THB 0.0313789 Thai Baht"
   ]
  },
  {
   "cell_type": "code",
   "execution_count": 17,
   "id": "9bcce5e3",
   "metadata": {},
   "outputs": [
    {
     "name": "stdout",
     "output_type": "stream",
     "text": [
      "122.96544\n",
      "1.241401\n"
     ]
    }
   ],
   "source": [
    "def convert_currency(currency_code, amount):\n",
    "#Reading the contents of the currency rates file\n",
    "    with open('currencies.txt') as infile:  \n",
    "        currency_data = infile.read()  \n",
    "\n",
    "#Creating a dictionary to hold the currency rates\n",
    "    currency_rates = {}\n",
    "    \n",
    "    #Process each line in the data\n",
    "    for line in currency_data.splitlines(): \n",
    "        #Spliting the line into components\n",
    "        components = line.split() \n",
    "        #Checking for sufficient parts\n",
    "        if len(components) >= 2: \n",
    "            #Currency code\n",
    "            code = components[0]  \n",
    "            #Conversting rate to USD\n",
    "            rate = float(components[1])  \n",
    "            #Adding to the dictionary\n",
    "            currency_rates[code] = rate  \n",
    "\n",
    "    return amount * currency_rates[currency_code]  # Convert the amount based on the currency rate\n",
    "\n",
    "#Output\n",
    "print(convert_currency('EUR', 100))  \n",
    "print(convert_currency('JPY', 100))  \n"
   ]
  },
  {
   "cell_type": "markdown",
   "id": "7eeef13d",
   "metadata": {},
   "source": [
    "# Question 9\n",
    "Each of the following will cause an exception (an error). Identify what type of exception each will cause.\n",
    "Trying to add incompatible variables, as in\n",
    "adding 6 + ‘a’\n",
    "Referring to the 12\n",
    "th item of a list that has only 10\n",
    "items\n",
    "Using a value that is out of range for a functi\n",
    "on’s\n",
    "input, such as calling math.sqrt( 1.0)\n",
    "Using an undeclared variable, such as\n",
    "p rint(x)\n",
    "when x has not been defined\n",
    "Trying to open a file that does not exist, such as\n",
    "mistyping the file name or looking in the wrong\n",
    "directory."
   ]
  },
  {
   "cell_type": "code",
   "execution_count": 18,
   "id": "d0c1137f",
   "metadata": {},
   "outputs": [
    {
     "name": "stdout",
     "output_type": "stream",
     "text": [
      "| Error Scenario                                                                                                 | Exception Type       |\n",
      "|----------------------------------------------------------------------------------------------------------------|\n",
      "| Trying to add incompatible variables, as in adding `6 + 'a'`                                                   | TypeError            |\n",
      "| Referring to the 12th item of a list that has only 10 items                                                    | IndexError           |\n",
      "| Using a value that is out of range for a function’s input, such as calling `math.sqrt(-1.0)`                   | ValueError           |\n",
      "| Using an undeclared variable, such as `print(x)` when `x` has not been defined                                 | NameError            |\n",
      "| Trying to open a file that does not exist, such as mistyping the file name or looking in the wrong directory   | FileNotFoundError    |\n"
     ]
    }
   ],
   "source": [
    "#Creating a list of error scenarios and their exception types\n",
    "error_scenarios = [\n",
    "    (\"Trying to add incompatible variables, as in adding `6 + 'a'`\", \"TypeError\"),\n",
    "    (\"Referring to the 12th item of a list that has only 10 items\", \"IndexError\"),\n",
    "    (\"Using a value that is out of range for a function’s input, such as calling `math.sqrt(-1.0)`\", \"ValueError\"),\n",
    "    (\"Using an undeclared variable, such as `print(x)` when `x` has not been defined\", \"NameError\"),\n",
    "    (\"Trying to open a file that does not exist, such as mistyping the file name or looking in the wrong directory\", \"FileNotFoundError\")\n",
    "]\n",
    "\n",
    "#Printing the table header\n",
    "print(f\"| {'Error Scenario':<110} | {'Exception Type':<20} |\")\n",
    "print(\"|\" + \"-\" * 112 + \"|\" )\n",
    "\n",
    "#Printing each error\n",
    "for scenario, exception in error_scenarios:\n",
    "    print(f\"| {scenario:<110} | {exception:<20} |\")\n"
   ]
  },
  {
   "cell_type": "markdown",
   "id": "ec8af533",
   "metadata": {},
   "source": [
    "# Question 10\n",
    "Encryption is the process of hiding the meaning of a text by substituting letters in the message with other letters, according to some system. If the process is successful, no one but the intended recipient can understand the encrypted message. Cryptanalysis refers to attempts to undo the encryption, even if some details of the encryption are unknown (for example, if an encrypted message has been intercepted). The first step of cryptanalysis is often to build up a table of letter frequencies in the encrypted text. Assume that the string letters is already defined as 'abcdefghijklmnopqrstuvwxyz'. Write a function called frequencies() that takes a string as its only parameter, and returns a list of integers, showing the number of times each character appears in the text. Your function may ignore any characters that are not in letters.\n",
    ">>> frequencies('The quick red fox got bored and went home.')\n",
    "[1, 1, 1, 3, 5, 1, 1, 2, 1, 0, 1, 0, 1, 2, 4, 0, 1, 2, 0, 2, 1, 0, 1, 1, 0, 0]\n",
    ">>> frequencies('apple')"
   ]
  },
  {
   "cell_type": "code",
   "execution_count": 19,
   "id": "b1a993ca",
   "metadata": {},
   "outputs": [
    {
     "name": "stdout",
     "output_type": "stream",
     "text": [
      "[1, 1, 1, 3, 5, 1, 1, 2, 1, 0, 1, 0, 1, 2, 4, 0, 1, 2, 0, 3, 1, 0, 1, 1, 0, 0]\n",
      "[1, 0, 0, 0, 1, 0, 0, 0, 0, 0, 0, 1, 0, 0, 0, 2, 0, 0, 0, 0, 0, 0, 0, 0, 0, 0]\n"
     ]
    }
   ],
   "source": [
    "def letter_frequencies(input_text):\n",
    "    #Defining the string containing the alphabet\n",
    "    alphabet = 'abcdefghijklmnopqrstuvwxyz'\n",
    "    \n",
    "#Creating a list of zeros to hold the frequency counts for each letter\n",
    "    frequency_counts = [0] * 26\n",
    "    \n",
    "#Converting the input text to lowercase for case-insensitivity\n",
    "    input_text = input_text.lower()\n",
    "    \n",
    "#Looping through each character in the text\n",
    "    for character in input_text:\n",
    "        if character in alphabet:\n",
    "            index = alphabet.index(character)  # Get the index of the character in 'alphabet'\n",
    "            frequency_counts[index] += 1  # Update the frequency for the letter\n",
    "\n",
    "    return frequency_counts\n",
    "\n",
    "#output\n",
    "print(letter_frequencies('The quick red fox got bored and went home.'))\n",
    "print(letter_frequencies('apple'))\n"
   ]
  }
 ],
 "metadata": {
  "kernelspec": {
   "display_name": "Python 3 (ipykernel)",
   "language": "python",
   "name": "python3"
  },
  "language_info": {
   "codemirror_mode": {
    "name": "ipython",
    "version": 3
   },
   "file_extension": ".py",
   "mimetype": "text/x-python",
   "name": "python",
   "nbconvert_exporter": "python",
   "pygments_lexer": "ipython3",
   "version": "3.11.5"
  }
 },
 "nbformat": 4,
 "nbformat_minor": 5
}

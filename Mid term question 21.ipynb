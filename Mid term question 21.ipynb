{
 "cells": [
  {
   "cell_type": "code",
   "execution_count": 1,
   "id": "3a7f2674",
   "metadata": {},
   "outputs": [
    {
     "name": "stdout",
     "output_type": "stream",
     "text": [
      "Segment Length: 5.0\n",
      "Segment Slope: 1.3333333333333333\n"
     ]
    }
   ],
   "source": [
    "import math\n",
    "\n",
    "#Custom point \n",
    "class CoordPoint:\n",
    "    def __init__(self, x_value=0, y_value=0):\n",
    "        self.x_value = x_value\n",
    "        self.y_value = y_value\n",
    "\n",
    "#Segment class \n",
    "class LineSegment:\n",
    "    def __init__(self, point1, point2):\n",
    "        self.point1 = point1\n",
    "        self.point2 = point2\n",
    "\n",
    "    #calculating the distance between two points \n",
    "    def get_length(self):\n",
    "        dx = self.point2.x_value - self.point1.x_value\n",
    "        dy = self.point2.y_value - self.point1.y_value\n",
    "        return math.sqrt(dx ** 2 + dy ** 2)\n",
    "\n",
    "    #computing the slope of the line segment\n",
    "    def get_slope(self):\n",
    "        try:\n",
    "            slope = (self.point2.y_value - self.point1.y_value) / (self.point2.x_value - self.point1.x_value)\n",
    "            return slope\n",
    "        except ZeroDivisionError:\n",
    "            return None  # If x-values are the same, the slope is undefined\n",
    "\n",
    "#Sample points for the testing\n",
    "pt1 = CoordPoint(3, 4)\n",
    "pt2 = CoordPoint(0, 0)\n",
    "\n",
    "#Creating line segment\n",
    "line_seg = LineSegment(pt1, pt2)\n",
    "\n",
    "#results\n",
    "print(\"Segment Length:\", line_seg.get_length()) \n",
    "print(\"Segment Slope:\", line_seg.get_slope())     \n"
   ]
  },
  {
   "cell_type": "code",
   "execution_count": null,
   "id": "8186e29e",
   "metadata": {},
   "outputs": [],
   "source": []
  }
 ],
 "metadata": {
  "kernelspec": {
   "display_name": "Python 3 (ipykernel)",
   "language": "python",
   "name": "python3"
  },
  "language_info": {
   "codemirror_mode": {
    "name": "ipython",
    "version": 3
   },
   "file_extension": ".py",
   "mimetype": "text/x-python",
   "name": "python",
   "nbconvert_exporter": "python",
   "pygments_lexer": "ipython3",
   "version": "3.11.5"
  }
 },
 "nbformat": 4,
 "nbformat_minor": 5
}
